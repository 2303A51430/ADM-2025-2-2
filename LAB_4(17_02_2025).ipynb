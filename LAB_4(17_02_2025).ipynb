{
  "nbformat": 4,
  "nbformat_minor": 0,
  "metadata": {
    "colab": {
      "provenance": [],
      "authorship_tag": "ABX9TyPKDWmZ4gZaiQvFQOwWJkMy",
      "include_colab_link": true
    },
    "kernelspec": {
      "name": "python3",
      "display_name": "Python 3"
    },
    "language_info": {
      "name": "python"
    }
  },
  "cells": [
    {
      "cell_type": "markdown",
      "metadata": {
        "id": "view-in-github",
        "colab_type": "text"
      },
      "source": [
        "<a href=\"https://colab.research.google.com/github/2303A51430/ADM-2025-2-2/blob/main/LAB_4(17_02_2024).ipynb\" target=\"_parent\"><img src=\"https://colab.research.google.com/assets/colab-badge.svg\" alt=\"Open In Colab\"/></a>"
      ]
    },
    {
      "cell_type": "code",
      "execution_count": 28,
      "metadata": {
        "id": "rL_wIqUZ_FXh"
      },
      "outputs": [],
      "source": [
        "import numpy as np\n",
        "import pandas as pd\n",
        "import matplotlib.pyplot as plt\n",
        "import seaborn as sns\n",
        "from scipy import stats"
      ]
    },
    {
      "cell_type": "code",
      "source": [
        "np.random.seed(42)\n",
        "data = np.random.normal(50, 15, 100)\n",
        "outliers = [10, 100, 5, 120]\n",
        "data = np.append(data, outliers)\n",
        "df = pd.DataFrame(data, columns=['Value'])"
      ],
      "metadata": {
        "id": "xQ4UjOZt_MhP"
      },
      "execution_count": 29,
      "outputs": []
    },
    {
      "cell_type": "code",
      "source": [
        "print(\"\\nOriginal Data:\")\n",
        "print(df.head())"
      ],
      "metadata": {
        "colab": {
          "base_uri": "https://localhost:8080/"
        },
        "id": "5KjhXvIvBGcH",
        "outputId": "ba9364a8-8842-445f-d17a-c8d9871638fb"
      },
      "execution_count": 30,
      "outputs": [
        {
          "output_type": "stream",
          "name": "stdout",
          "text": [
            "\n",
            "Original Data:\n",
            "       Value\n",
            "0  57.450712\n",
            "1  47.926035\n",
            "2  59.715328\n",
            "3  72.845448\n",
            "4  46.487699\n"
          ]
        }
      ]
    },
    {
      "cell_type": "code",
      "source": [
        "def detect_outliers_iqr(data):\n",
        "    Q1 = np.percentile(data, 25)\n",
        "    Q3 = np.percentile(data, 75)\n",
        "    IQR = Q3 - Q1\n",
        "    lower_bound = Q1 - 1.5 * IQR\n",
        "    upper_bound = Q3 + 1.5 * IQR\n",
        "    return data[(data < lower_bound) | (data > upper_bound)]"
      ],
      "metadata": {
        "id": "8vVmvKkj_VHd"
      },
      "execution_count": 31,
      "outputs": []
    },
    {
      "cell_type": "code",
      "source": [
        "outliers_iqr = detect_outliers_iqr(df['Value'])\n",
        "print(\"Outliers detected using IQR:\", outliers_iqr.tolist())"
      ],
      "metadata": {
        "colab": {
          "base_uri": "https://localhost:8080/"
        },
        "id": "NY64Q_Fw_Ygs",
        "outputId": "c10dedf6-2f25-4414-b917-e46f90f87a98"
      },
      "execution_count": 32,
      "outputs": [
        {
          "output_type": "stream",
          "name": "stdout",
          "text": [
            "Outliers detected using IQR: [10.703823438653835, 10.0, 100.0, 5.0, 120.0]\n"
          ]
        }
      ]
    },
    {
      "cell_type": "code",
      "source": [
        "def detect_outliers_zscore(data, threshold=3):\n",
        "    z_scores = stats.zscore(data)\n",
        "    return data[np.abs(z_scores) > threshold]"
      ],
      "metadata": {
        "id": "lVIgYp6y_cQC"
      },
      "execution_count": 33,
      "outputs": []
    },
    {
      "cell_type": "code",
      "source": [
        "outliers_zscore = detect_outliers_zscore(df['Value'])\n",
        "print(\"Outliers detected using Z-Score:\", outliers_zscore.tolist())"
      ],
      "metadata": {
        "colab": {
          "base_uri": "https://localhost:8080/"
        },
        "id": "WtlvxVHX_yQ4",
        "outputId": "88fe7355-8908-48c1-c660-b98bd21a88b0"
      },
      "execution_count": 34,
      "outputs": [
        {
          "output_type": "stream",
          "name": "stdout",
          "text": [
            "Outliers detected using Z-Score: [100.0, 120.0]\n"
          ]
        }
      ]
    },
    {
      "cell_type": "code",
      "source": [
        "plt.figure(figsize=(8, 5))\n",
        "sns.boxplot(y=df['Value'])\n",
        "plt.title(\"Boxplot for Outlier Detection\")\n",
        "plt.show()"
      ],
      "metadata": {
        "colab": {
          "base_uri": "https://localhost:8080/",
          "height": 450
        },
        "id": "KgikqrJv_3f7",
        "outputId": "ad2201a0-40b6-456c-8e2d-5ecf12ca631e"
      },
      "execution_count": 35,
      "outputs": [
        {
          "output_type": "display_data",
          "data": {
            "text/plain": [
              "<Figure size 800x500 with 1 Axes>"
            ],
            "image/png": "[encoded data removed]"
          },
          "metadata": {}
        }
      ]
    },
    {
      "cell_type": "code",
      "source": [
        "def cap_outliers(data):\n",
        "    Q1 = np.percentile(data, 25)\n",
        "    Q3 = np.percentile(data, 75)\n",
        "    IQR = Q3 - Q1\n",
        "    lower_bound = Q1 - 1.5 * IQR\n",
        "    upper_bound = Q3 + 1.5 * IQR\n",
        "    return np.clip(data, lower_bound, upper_bound)"
      ],
      "metadata": {
        "id": "qlwGTF40AAxq"
      },
      "execution_count": 36,
      "outputs": []
    },
    {
      "cell_type": "code",
      "source": [
        "df['Capped'] = cap_outliers(df['Value'])"
      ],
      "metadata": {
        "id": "UcWAiOdlADn0"
      },
      "execution_count": 37,
      "outputs": []
    },
    {
      "cell_type": "code",
      "source": [
        "df_removed = df[~df['Value'].isin(outliers_iqr)]"
      ],
      "metadata": {
        "id": "f8q8P61qAGmQ"
      },
      "execution_count": 38,
      "outputs": []
    },
    {
      "cell_type": "code",
      "source": [
        "print(\"\\nData after Capping:\")\n",
        "print(df[['Value', 'Capped']].head())"
      ],
      "metadata": {
        "colab": {
          "base_uri": "https://localhost:8080/"
        },
        "id": "XTTRItM5A0CL",
        "outputId": "3430f2d7-888e-4fa2-c29b-76689a7e5820"
      },
      "execution_count": 39,
      "outputs": [
        {
          "output_type": "stream",
          "name": "stdout",
          "text": [
            "\n",
            "Data after Capping:\n",
            "       Value     Capped\n",
            "0  57.450712  57.450712\n",
            "1  47.926035  47.926035\n",
            "2  59.715328  59.715328\n",
            "3  72.845448  72.845448\n",
            "4  46.487699  46.487699\n"
          ]
        }
      ]
    },
    {
      "cell_type": "code",
      "source": [
        "def impute_outliers(data):\n",
        "    median = np.median(data)\n",
        "    Q1 = np.percentile(data, 25)\n",
        "    Q3 = np.percentile(data, 75)\n",
        "    IQR = Q3 - Q1\n",
        "    lower_bound = Q1 - 1.5 * IQR\n",
        "    upper_bound = Q3 + 1.5 * IQR\n",
        "    return [median if (x < lower_bound or x > upper_bound) else x for x in data]"
      ],
      "metadata": {
        "id": "ssJsud_OAMQc"
      },
      "execution_count": 40,
      "outputs": []
    },
    {
      "cell_type": "code",
      "source": [
        "df['Imputed'] = impute_outliers(df['Value'])"
      ],
      "metadata": {
        "id": "Q02lUKYRANdE"
      },
      "execution_count": 41,
      "outputs": []
    },
    {
      "cell_type": "code",
      "source": [
        "print(\"\\nData after Imputation:\")\n",
        "print(df[['Value', 'Imputed']].head())"
      ],
      "metadata": {
        "colab": {
          "base_uri": "https://localhost:8080/"
        },
        "id": "5qJAgR6ABXh1",
        "outputId": "a72f2528-a9d4-4fa8-9571-c6651dfa6936"
      },
      "execution_count": 42,
      "outputs": [
        {
          "output_type": "stream",
          "name": "stdout",
          "text": [
            "\n",
            "Data after Imputation:\n",
            "       Value    Imputed\n",
            "0  57.450712  57.450712\n",
            "1  47.926035  47.926035\n",
            "2  59.715328  59.715328\n",
            "3  72.845448  72.845448\n",
            "4  46.487699  46.487699\n"
          ]
        }
      ]
    }
  ]
}
